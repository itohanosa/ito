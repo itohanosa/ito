{
  "nbformat": 4,
  "nbformat_minor": 0,
  "metadata": {
    "colab": {
      "name": "Copy of Variable importance_4Paper",
      "provenance": [],
      "collapsed_sections": [],
      "toc_visible": true,
      "authorship_tag": "ABX9TyO5ec0Of+krXUlXbFBuy/li",
      "include_colab_link": true
    },
    "kernelspec": {
      "name": "python3",
      "display_name": "Python 3"
    }
  },
  "cells": [
    {
      "cell_type": "markdown",
      "metadata": {
        "id": "view-in-github",
        "colab_type": "text"
      },
      "source": [
        "<a href=\"https://colab.research.google.com/github/itohanosa/ito/blob/master/Copy_of_Variable_importance_4Paper.ipynb\" target=\"_parent\"><img src=\"https://colab.research.google.com/assets/colab-badge.svg\" alt=\"Open In Colab\"/></a>"
      ]
    },
    {
      "cell_type": "code",
      "metadata": {
        "id": "tnGbV8C4CZgz",
        "colab": {
          "base_uri": "https://localhost:8080/",
          "height": 700
        },
        "outputId": "450748b8-6418-446c-e9b0-860c966ade7e"
      },
      "source": [
        "# Initialize Google Earth Engine\n",
        "!pip install earthengine-api\n",
        "!earthengine authenticate\n",
        "\n",
        "import ee\n",
        "try:\n",
        "  ee.Initialize()\n",
        "  print('The Earth Engine package initialized successfully!')\n",
        "except ee.EEException as e:\n",
        "  print('The Earth Engine package failed to initialize!')\n",
        "except:\n",
        "    print(\"Unexpected error:\", sys.exc_info()[0])\n",
        "    raise"
      ],
      "execution_count": null,
      "outputs": [
        {
          "output_type": "stream",
          "text": [
            "Requirement already satisfied: earthengine-api in /usr/local/lib/python3.6/dist-packages (0.1.217)\n",
            "Requirement already satisfied: google-auth>=1.4.1 in /usr/local/lib/python3.6/dist-packages (from earthengine-api) (1.7.2)\n",
            "Requirement already satisfied: httplib2shim in /usr/local/lib/python3.6/dist-packages (from earthengine-api) (0.0.3)\n",
            "Requirement already satisfied: six in /usr/local/lib/python3.6/dist-packages (from earthengine-api) (1.12.0)\n",
            "Requirement already satisfied: google-cloud-storage in /usr/local/lib/python3.6/dist-packages (from earthengine-api) (1.18.1)\n",
            "Requirement already satisfied: google-api-python-client in /usr/local/lib/python3.6/dist-packages (from earthengine-api) (1.7.12)\n",
            "Requirement already satisfied: httplib2<1dev,>=0.9.2 in /usr/local/lib/python3.6/dist-packages (from earthengine-api) (0.17.0)\n",
            "Requirement already satisfied: google-auth-httplib2>=0.0.3 in /usr/local/lib/python3.6/dist-packages (from earthengine-api) (0.0.3)\n",
            "Requirement already satisfied: future in /usr/local/lib/python3.6/dist-packages (from earthengine-api) (0.16.0)\n",
            "Requirement already satisfied: setuptools>=40.3.0 in /usr/local/lib/python3.6/dist-packages (from google-auth>=1.4.1->earthengine-api) (46.0.0)\n",
            "Requirement already satisfied: cachetools<3.2,>=2.0.0 in /usr/local/lib/python3.6/dist-packages (from google-auth>=1.4.1->earthengine-api) (3.1.1)\n",
            "Requirement already satisfied: rsa<4.1,>=3.1.4 in /usr/local/lib/python3.6/dist-packages (from google-auth>=1.4.1->earthengine-api) (4.0)\n",
            "Requirement already satisfied: pyasn1-modules>=0.2.1 in /usr/local/lib/python3.6/dist-packages (from google-auth>=1.4.1->earthengine-api) (0.2.8)\n",
            "Requirement already satisfied: certifi in /usr/local/lib/python3.6/dist-packages (from httplib2shim->earthengine-api) (2019.11.28)\n",
            "Requirement already satisfied: urllib3 in /usr/local/lib/python3.6/dist-packages (from httplib2shim->earthengine-api) (1.24.3)\n",
            "Requirement already satisfied: google-cloud-core<2.0dev,>=1.0.0 in /usr/local/lib/python3.6/dist-packages (from google-cloud-storage->earthengine-api) (1.0.3)\n",
            "Requirement already satisfied: google-resumable-media<0.5.0dev,>=0.3.1 in /usr/local/lib/python3.6/dist-packages (from google-cloud-storage->earthengine-api) (0.4.1)\n",
            "Requirement already satisfied: uritemplate<4dev,>=3.0.0 in /usr/local/lib/python3.6/dist-packages (from google-api-python-client->earthengine-api) (3.0.1)\n",
            "Requirement already satisfied: pyasn1>=0.1.3 in /usr/local/lib/python3.6/dist-packages (from rsa<4.1,>=3.1.4->google-auth>=1.4.1->earthengine-api) (0.4.8)\n",
            "Requirement already satisfied: google-api-core<2.0.0dev,>=1.14.0 in /usr/local/lib/python3.6/dist-packages (from google-cloud-core<2.0dev,>=1.0.0->google-cloud-storage->earthengine-api) (1.16.0)\n",
            "Requirement already satisfied: googleapis-common-protos<2.0dev,>=1.6.0 in /usr/local/lib/python3.6/dist-packages (from google-api-core<2.0.0dev,>=1.14.0->google-cloud-core<2.0dev,>=1.0.0->google-cloud-storage->earthengine-api) (1.51.0)\n",
            "Requirement already satisfied: requests<3.0.0dev,>=2.18.0 in /usr/local/lib/python3.6/dist-packages (from google-api-core<2.0.0dev,>=1.14.0->google-cloud-core<2.0dev,>=1.0.0->google-cloud-storage->earthengine-api) (2.21.0)\n",
            "Requirement already satisfied: protobuf>=3.4.0 in /usr/local/lib/python3.6/dist-packages (from google-api-core<2.0.0dev,>=1.14.0->google-cloud-core<2.0dev,>=1.0.0->google-cloud-storage->earthengine-api) (3.10.0)\n",
            "Requirement already satisfied: pytz in /usr/local/lib/python3.6/dist-packages (from google-api-core<2.0.0dev,>=1.14.0->google-cloud-core<2.0dev,>=1.0.0->google-cloud-storage->earthengine-api) (2018.9)\n",
            "Requirement already satisfied: idna<2.9,>=2.5 in /usr/local/lib/python3.6/dist-packages (from requests<3.0.0dev,>=2.18.0->google-api-core<2.0.0dev,>=1.14.0->google-cloud-core<2.0dev,>=1.0.0->google-cloud-storage->earthengine-api) (2.8)\n",
            "Requirement already satisfied: chardet<3.1.0,>=3.0.2 in /usr/local/lib/python3.6/dist-packages (from requests<3.0.0dev,>=2.18.0->google-api-core<2.0.0dev,>=1.14.0->google-cloud-core<2.0dev,>=1.0.0->google-cloud-storage->earthengine-api) (3.0.4)\n",
            "Running command using Cloud API.  Set --no-use_cloud_api to go back to using the API\n",
            "\n",
            "/usr/local/lib/python3.6/dist-packages/IPython/utils/traitlets.py:5: UserWarning: IPython.utils.traitlets has moved to a top-level traitlets package.\n",
            "  warn(\"IPython.utils.traitlets has moved to a top-level traitlets package.\")\n",
            "To authorize access needed by Earth Engine, open the following URL in a web browser and follow the instructions. If the web browser does not start automatically, please manually browse the URL below.\n",
            "\n",
            "    https://accounts.google.com/o/oauth2/auth?client_id=517222506229-vsmmajv00ul0bs7p89v5m89qs8eb9359.apps.googleusercontent.com&scope=https%3A%2F%2Fwww.googleapis.com%2Fauth%2Fearthengine+https%3A%2F%2Fwww.googleapis.com%2Fauth%2Fdevstorage.full_control&redirect_uri=urn%3Aietf%3Awg%3Aoauth%3A2.0%3Aoob&response_type=code&code_challenge=dlpp6pfSTjV33MGi9CrhJXRWdkuT9N7jwh3U2-1Wc0s&code_challenge_method=S256\n",
            "\n",
            "The authorization workflow will generate a code, which you should paste in the box below. \n",
            "Enter verification code: 4/yQHOpOj1jmhF8qp-bo4y9BYyWescvVNxiKLnhnFyrDsj0si4Cfk605M\n",
            "\n",
            "Successfully saved authorization token.\n",
            "The Earth Engine package initialized successfully!\n"
          ],
          "name": "stdout"
        }
      ]
    },
    {
      "cell_type": "code",
      "metadata": {
        "id": "bAKphYbpCiOo"
      },
      "source": [
        "import numpy as np\n",
        "import time\n",
        "from sklearn.ensemble import RandomForestClassifier\n",
        "import pandas as pd\n",
        "from shapely.geometry import shape\n",
        "from sklearn.metrics import cohen_kappa_score\n",
        "from sklearn.metrics import r2_score\n",
        "from google.colab import files\n",
        "import matplotlib.pyplot as plt\n",
        "from sklearn.metrics import r2_score\n",
        "from sklearn.metrics import confusion_matrix\n",
        "\n",
        "# Function to Convert Feature Classes to Pandas Dataframe\n",
        "def fc2df(fc):\n",
        "    features = fc.getInfo()['features']\n",
        "    dictarr = []\n",
        "    for f in features:\n",
        "        attr = f['properties']\n",
        "        dictarr.append(attr)\n",
        "\n",
        "    return pd.DataFrame(dictarr)"
      ],
      "execution_count": null,
      "outputs": []
    },
    {
      "cell_type": "code",
      "metadata": {
        "id": "BwRTP13tDShq"
      },
      "source": [
        "# load training dataset\n",
        "assetID = 'users/abuitohanosa/stratified4'\n",
        "tableGEE = ee.FeatureCollection(assetID);\n",
        "tableGEElist = tableGEE.toList(100000)\n",
        "\n",
        "tableGEE1 = ee.FeatureCollection(tableGEElist.slice(0, 5000))\n",
        "df =  fc2df(tableGEE1)"
      ],
      "execution_count": null,
      "outputs": []
    },
    {
      "cell_type": "code",
      "metadata": {
        "id": "27G_BUJrDl6q",
        "colab": {
          "base_uri": "https://localhost:8080/",
          "height": 34
        },
        "outputId": "8974cfed-c098-48c4-cf2d-277041edc427"
      },
      "source": [
        "# change non-valid number to nan\n",
        "df = df.replace([-11], np.nan).dropna()\n",
        "print('Number of samples: ' + str(len(df)))"
      ],
      "execution_count": null,
      "outputs": [
        {
          "output_type": "stream",
          "text": [
            "Number of samples: 4822\n"
          ],
          "name": "stdout"
        }
      ]
    },
    {
      "cell_type": "code",
      "metadata": {
        "id": "cuTaKUpJD90Q",
        "colab": {
          "base_uri": "https://localhost:8080/",
          "height": 136
        },
        "outputId": "de686683-4101-4df1-a816-c22a8e31d2fc"
      },
      "source": [
        "#Distribution of Classes\n",
        "print()\n",
        "print('Class1: ' + str(sum(df.classification==1)) + ' points - ' + str(round(sum(df.classification==1)/len(df.classification)*100,2)) + '%')\n",
        "#print('Class2: ' + str(sum(df.classification==2)) + ' points - ' + str(round(sum(df.classification==2)/len(df.classification)*100,2)) + '%')\n",
        "print('Class3: ' + str(sum(df.classification==3)) + ' points - ' + str(round(sum(df.classification==3)/len(df.classification)*100,2)) + '%')\n",
        "print('Class4: ' + str(sum(df.classification==4)) + ' points - ' + str(round(sum(df.classification==4)/len(df.classification)*100,2)) + '%')\n",
        "print('Class6: ' + str(sum(df.classification==6)) + ' points - ' + str(round(sum(df.classification==6)/len(df.classification)*100,2)) + '%')\n",
        "print('Class10: ' + str(sum(df.classification==10)) + ' points - ' + str(round(sum(df.classification==10)/len(df.classification)*100,2)) + '%')\n",
        "print('Class11: ' + str(sum(df.classification==11)) + ' points - ' + str(round(sum(df.classification==11)/len(df.classification)*100,2)) + '%')"
      ],
      "execution_count": null,
      "outputs": [
        {
          "output_type": "stream",
          "text": [
            "\n",
            "Class1: 80 points - 1.66%\n",
            "Class3: 0 points - 0.0%\n",
            "Class4: 1000 points - 20.74%\n",
            "Class6: 921 points - 19.1%\n",
            "Class10: 821 points - 17.03%\n",
            "Class11: 0 points - 0.0%\n"
          ],
          "name": "stdout"
        }
      ]
    },
    {
      "cell_type": "code",
      "metadata": {
        "id": "0CgnnjKFEMYv",
        "colab": {
          "base_uri": "https://localhost:8080/",
          "height": 272
        },
        "outputId": "209020ba-5872-4b63-ec37-af65cedf378a"
      },
      "source": [
        "# Create variable with predictive data and display all feature names\n",
        "Xall = df.copy()\n",
        "Xall = Xall.drop(['longitude','latitude', 'classification'],axis='columns')\n",
        "allBands = Xall.columns.tolist()\n",
        "print(Xall.columns.values)\n",
        "\n",
        "classificaton_f = df.classification"
      ],
      "execution_count": null,
      "outputs": [
        {
          "output_type": "stream",
          "text": [
            "['B4' 'B4_1' 'B4_asm' 'B4_contrast' 'B4_corr' 'B4_dent' 'B4_diss'\n",
            " 'B4_dvar' 'B4_ent' 'B4_idm' 'B4_imcorr1' 'B4_imcorr2' 'B4_inertia'\n",
            " 'B4_maxcorr' 'B4_prom' 'B4_savg' 'B4_sent' 'B4_shade' 'B4_svar' 'B4_var'\n",
            " 'B8' 'B8_1' 'B8_asm' 'B8_contrast' 'B8_corr' 'B8_dent' 'B8_diss'\n",
            " 'B8_dvar' 'B8_ent' 'B8_idm' 'B8_imcorr1' 'B8_imcorr2' 'B8_inertia'\n",
            " 'B8_maxcorr' 'B8_prom' 'B8_savg' 'B8_sent' 'B8_shade' 'B8_svar' 'B8_var'\n",
            " 'IR_asm' 'IR_contrast' 'IR_corr' 'IR_dent' 'IR_diss' 'IR_dvar' 'IR_ent'\n",
            " 'IR_idm' 'IR_imcorr1' 'IR_imcorr2' 'IR_inertia' 'IR_maxcorr' 'IR_prom'\n",
            " 'IR_savg' 'IR_sent' 'IR_shade' 'IR_svar' 'IR_var' 'VH_asm' 'VH_contrast'\n",
            " 'VH_corr' 'VH_dent' 'VH_diss' 'VH_dvar' 'VH_ent' 'VH_idm' 'VH_imcorr1'\n",
            " 'VH_imcorr2' 'VH_inertia' 'VH_maxcorr' 'VH_prom' 'VH_savg' 'VH_sent'\n",
            " 'VH_shade' 'VH_smoothed' 'VH_svar' 'VH_var' 'VV_asm' 'VV_contrast'\n",
            " 'VV_corr' 'VV_dent' 'VV_diss' 'VV_dvar' 'VV_ent' 'VV_idm' 'VV_imcorr1'\n",
            " 'VV_imcorr2' 'VV_inertia' 'VV_maxcorr' 'VV_prom' 'VV_savg' 'VV_sent'\n",
            " 'VV_shade' 'VV_smoothed' 'VV_svar' 'VV_var']\n"
          ],
          "name": "stdout"
        }
      ]
    },
    {
      "cell_type": "code",
      "metadata": {
        "id": "ykG4uL-gEbBh"
      },
      "source": [
        "# Complete name of the features\n",
        "bands_completeName = ['B4' 'B8' 'B8_asm' 'B8_contrast' 'B8_corr' 'B8_dent' 'B8_diss' 'B8_dvar'\n",
        " 'B8_ent' 'B8_idm' 'B8_imcorr1' 'B8_imcorr2' 'B8_inertia' 'B8_maxcorr'\n",
        " 'B8_prom' 'B8_savg' 'B8_sent' 'B8_shade' 'B8_svar' 'B8_var' 'Brightness'\n",
        " 'Greenness' 'VH_sm2' 'VH_sm2_asm' 'VH_sm2_contrast' 'VH_sm2_corr'\n",
        " 'VH_sm2_dent' 'VH_sm2_diss' 'VH_sm2_dvar' 'VH_sm2_ent' 'VH_sm2_idm'\n",
        " 'VH_sm2_imcorr1' 'VH_sm2_imcorr2' 'VH_sm2_inertia' 'VH_sm2_maxcorr'\n",
        " 'VH_sm2_prom' 'VH_sm2_savg' 'VH_sm2_sent' 'VH_sm2_shade' 'VH_sm2_svar'\n",
        " 'VH_sm2_var' 'VV_sm2' 'VV_sm2_asm' 'VV_sm2_contrast' 'VV_sm2_corr'\n",
        " 'VV_sm2_dent' 'VV_sm2_diss' 'VV_sm2_dvar' 'VV_sm2_ent' 'VV_sm2_idm'\n",
        " 'VV_sm2_imcorr1' 'VV_sm2_imcorr2' 'VV_sm2_inertia' 'VV_sm2_maxcorr'\n",
        " 'VV_sm2_prom' 'VV_sm2_savg' 'VV_sm2_sent' 'VV_sm2_shade' 'VV_sm2_svar'\n",
        " 'VV_sm2_var' 'Wetness']\n",
        "features_label = np.array(bands_completeName)"
      ],
      "execution_count": null,
      "outputs": []
    },
    {
      "cell_type": "code",
      "metadata": {
        "id": "NBq4ajJTFryE"
      },
      "source": [
        "# CROSS VALIDATION 1TRAIN 9TEST VS. 9TRAIN 1TEST\n",
        "\n",
        "# set variables 0 - all bands\n",
        "bands = allBands\n",
        "\n",
        "# set variables 1 - original bands of Sentinel-1 and Sentinel-2\n",
        "#bands = bandsNoFeatures\n",
        "\n",
        "# set variables 2 - bands from permutation analysis\n",
        "bands = ['B4' 'B8' 'B8_asm' 'B8_contrast' 'B8_corr' 'B8_dent' 'B8_diss' 'B8_dvar'\n",
        " 'B8_ent' 'B8_idm' 'B8_imcorr1' 'B8_imcorr2' 'B8_inertia' 'B8_maxcorr'\n",
        " 'B8_prom' 'B8_savg' 'B8_sent' 'B8_shade' 'B8_svar' 'B8_var' 'Brightness'\n",
        " 'Greenness' 'VH_sm2' 'VH_sm2_asm' 'VH_sm2_contrast' 'VH_sm2_corr'\n",
        " 'VH_sm2_dent' 'VH_sm2_diss' 'VH_sm2_dvar' 'VH_sm2_ent' 'VH_sm2_idm'\n",
        " 'VH_sm2_imcorr1' 'VH_sm2_imcorr2' 'VH_sm2_inertia' 'VH_sm2_maxcorr'\n",
        " 'VH_sm2_prom' 'VH_sm2_savg' 'VH_sm2_sent' 'VH_sm2_shade' 'VH_sm2_svar'\n",
        " 'VH_sm2_var' 'VV_sm2' 'VV_sm2_asm' 'VV_sm2_contrast' 'VV_sm2_corr'\n",
        " 'VV_sm2_dent' 'VV_sm2_diss' 'VV_sm2_dvar' 'VV_sm2_ent' 'VV_sm2_idm'\n",
        " 'VV_sm2_imcorr1' 'VV_sm2_imcorr2' 'VV_sm2_inertia' 'VV_sm2_maxcorr'\n",
        " 'VV_sm2_prom' 'VV_sm2_savg' 'VV_sm2_sent' 'VV_sm2_shade' 'VV_sm2_svar'\n",
        " 'VV_sm2_var' 'Wetness']"
      ],
      "execution_count": null,
      "outputs": []
    },
    {
      "cell_type": "code",
      "metadata": {
        "id": "ytTfl3m7IvDU"
      },
      "source": [
        "#GINI index\n",
        "bands = allBands\n",
        "\n",
        "# prepare data\n",
        "X = Xall[bands].copy()\n",
        "y = df.classification.copy()\n",
        "\n",
        "X_train = X.copy()\n",
        "y_train = y.copy()\n",
        "X_test = X.copy()\n",
        "y_test = y.copy()\n",
        "\n",
        "# fit a RF with all bands\n",
        "modelGINI = RandomForestClassifier(n_estimators=1000, random_state=500,min_samples_split=5,min_samples_leaf=5,max_features='sqrt',oob_score=0,\n",
        "                              warm_start=True)\n",
        "modelGINI = modelGINI.fit(X_train, y_train)"
      ],
      "execution_count": null,
      "outputs": []
    },
    {
      "cell_type": "code",
      "metadata": {
        "id": "FoF4vpKsjD0y",
        "colab": {
          "base_uri": "https://localhost:8080/",
          "height": 272
        },
        "outputId": "bf9aa7b8-d62f-4e6d-bd57-c99ef3ff1963"
      },
      "source": [
        "# take the most relevant features\n",
        "features = X.columns.values\n",
        "importances = modelGINI.feature_importances_\n",
        "indices = np.argsort(importances)\n",
        "\n",
        "print(features[indices][-133:])"
      ],
      "execution_count": null,
      "outputs": [
        {
          "output_type": "stream",
          "text": [
            "['B8_svar' 'B8_contrast' 'B8_corr' 'B8_diss' 'B8_dvar' 'B8_ent' 'B8_idm'\n",
            " 'B8_imcorr1' 'B8_asm' 'B8_imcorr2' 'B8_maxcorr' 'B8_prom' 'B8_savg'\n",
            " 'B8_sent' 'B8_shade' 'B8_var' 'VH_maxcorr' 'B8_inertia' 'VV_maxcorr'\n",
            " 'B8_dent' 'B4_dent' 'B4_asm' 'B4_contrast' 'B4_corr' 'B4_var' 'B4_diss'\n",
            " 'B4_dvar' 'B4_ent' 'B4_idm' 'B4_imcorr1' 'IR_maxcorr' 'B4_inertia'\n",
            " 'B4_maxcorr' 'B4_prom' 'B4_savg' 'B4_sent' 'B4_shade' 'B4_svar'\n",
            " 'B4_imcorr2' 'VV_corr' 'VV_imcorr1' 'VH_corr' 'VV_imcorr2' 'VH_imcorr1'\n",
            " 'IR_corr' 'VV_prom' 'IR_imcorr1' 'VV_shade' 'VV_asm' 'VV_dvar'\n",
            " 'VH_imcorr2' 'IR_shade' 'VV_var' 'VH_idm' 'VH_asm' 'VV_contrast'\n",
            " 'VH_prom' 'VV_svar' 'VH_ent' 'IR_prom' 'VH_svar' 'VV_inertia' 'VV_idm'\n",
            " 'IR_svar' 'VH_inertia' 'IR_var' 'VH_var' 'IR_asm' 'VH_dvar' 'IR_imcorr2'\n",
            " 'VH_contrast' 'IR_ent' 'IR_contrast' 'IR_dvar' 'VV_ent' 'IR_inertia'\n",
            " 'VH_shade' 'IR_idm' 'IR_sent' 'VH_diss' 'VH_sent' 'VV_sent' 'VH_dent'\n",
            " 'VV_savg' 'VV_diss' 'IR_diss' 'IR_dent' 'VV_dent' 'B4' 'B4_1' 'VH_savg'\n",
            " 'VV_smoothed' 'VH_smoothed' 'IR_savg' 'B8' 'B8_1']\n"
          ],
          "name": "stdout"
        }
      ]
    },
    {
      "cell_type": "code",
      "metadata": {
        "id": "AsmcE-bzjLFp",
        "colab": {
          "base_uri": "https://localhost:8080/",
          "height": 1000
        },
        "outputId": "63a25204-3f5d-44d0-8b5e-0c2a9f0ee59b"
      },
      "source": [
        "# plot figure\n",
        "plt.rcParams['figure.figsize'] = [10, 10]\n",
        "plt.title('Feature Importances')\n",
        "plt.barh(range(len(indices[-45:])), importances[indices][-45:], color='#6E6E6E', align='center')\n",
        "plt.xlabel('Relative Importance')\n",
        "#plt.yticks(range(len(indices)), features)\n",
        "plt.yticks(range(len(indices[-45:])), features[-45:])"
      ],
      "execution_count": null,
      "outputs": [
        {
          "output_type": "execute_result",
          "data": {
            "text/plain": [
              "([<matplotlib.axis.YTick at 0x7f4e983a1320>,\n",
              "  <matplotlib.axis.YTick at 0x7f4e97927358>,\n",
              "  <matplotlib.axis.YTick at 0x7f4e978fc4e0>,\n",
              "  <matplotlib.axis.YTick at 0x7f4e9832c240>,\n",
              "  <matplotlib.axis.YTick at 0x7f4e9832c6a0>,\n",
              "  <matplotlib.axis.YTick at 0x7f4e9832cb38>,\n",
              "  <matplotlib.axis.YTick at 0x7f4e9832cd68>,\n",
              "  <matplotlib.axis.YTick at 0x7f4e982ba4a8>,\n",
              "  <matplotlib.axis.YTick at 0x7f4e982ba940>,\n",
              "  <matplotlib.axis.YTick at 0x7f4e982badd8>,\n",
              "  <matplotlib.axis.YTick at 0x7f4e982ba9e8>,\n",
              "  <matplotlib.axis.YTick at 0x7f4e9832ce48>,\n",
              "  <matplotlib.axis.YTick at 0x7f4e982c12b0>,\n",
              "  <matplotlib.axis.YTick at 0x7f4e982c1748>,\n",
              "  <matplotlib.axis.YTick at 0x7f4e982c1be0>,\n",
              "  <matplotlib.axis.YTick at 0x7f4e982c9128>,\n",
              "  <matplotlib.axis.YTick at 0x7f4e982c9550>,\n",
              "  <matplotlib.axis.YTick at 0x7f4e982c99e8>,\n",
              "  <matplotlib.axis.YTick at 0x7f4e982c9e80>,\n",
              "  <matplotlib.axis.YTick at 0x7f4e982d0358>,\n",
              "  <matplotlib.axis.YTick at 0x7f4e982c99b0>,\n",
              "  <matplotlib.axis.YTick at 0x7f4e982c1c88>,\n",
              "  <matplotlib.axis.YTick at 0x7f4e982ba0b8>,\n",
              "  <matplotlib.axis.YTick at 0x7f4e982d0080>,\n",
              "  <matplotlib.axis.YTick at 0x7f4e982d0e80>,\n",
              "  <matplotlib.axis.YTick at 0x7f4e982d7358>,\n",
              "  <matplotlib.axis.YTick at 0x7f4e982d77f0>,\n",
              "  <matplotlib.axis.YTick at 0x7f4e982d7c88>,\n",
              "  <matplotlib.axis.YTick at 0x7f4e982de198>,\n",
              "  <matplotlib.axis.YTick at 0x7f4e982de5f8>,\n",
              "  <matplotlib.axis.YTick at 0x7f4e982d78d0>,\n",
              "  <matplotlib.axis.YTick at 0x7f4e982d71d0>,\n",
              "  <matplotlib.axis.YTick at 0x7f4e982d0438>,\n",
              "  <matplotlib.axis.YTick at 0x7f4e982dec18>,\n",
              "  <matplotlib.axis.YTick at 0x7f4e982dee80>,\n",
              "  <matplotlib.axis.YTick at 0x7f4e982e7358>,\n",
              "  <matplotlib.axis.YTick at 0x7f4e982e77f0>,\n",
              "  <matplotlib.axis.YTick at 0x7f4e982e7c88>,\n",
              "  <matplotlib.axis.YTick at 0x7f4e982ef198>,\n",
              "  <matplotlib.axis.YTick at 0x7f4e982ef5f8>,\n",
              "  <matplotlib.axis.YTick at 0x7f4e982e78d0>,\n",
              "  <matplotlib.axis.YTick at 0x7f4e982de5c0>,\n",
              "  <matplotlib.axis.YTick at 0x7f4e982ef9b0>,\n",
              "  <matplotlib.axis.YTick at 0x7f4e982ef208>,\n",
              "  <matplotlib.axis.YTick at 0x7f4e982f7198>],\n",
              " [Text(0, 0, 'IR_maxcorr'),\n",
              "  Text(0, 0, 'IR_prom'),\n",
              "  Text(0, 0, 'IR_savg'),\n",
              "  Text(0, 0, 'IR_sent'),\n",
              "  Text(0, 0, 'IR_shade'),\n",
              "  Text(0, 0, 'IR_svar'),\n",
              "  Text(0, 0, 'IR_var'),\n",
              "  Text(0, 0, 'VH_asm'),\n",
              "  Text(0, 0, 'VH_contrast'),\n",
              "  Text(0, 0, 'VH_corr'),\n",
              "  Text(0, 0, 'VH_dent'),\n",
              "  Text(0, 0, 'VH_diss'),\n",
              "  Text(0, 0, 'VH_dvar'),\n",
              "  Text(0, 0, 'VH_ent'),\n",
              "  Text(0, 0, 'VH_idm'),\n",
              "  Text(0, 0, 'VH_imcorr1'),\n",
              "  Text(0, 0, 'VH_imcorr2'),\n",
              "  Text(0, 0, 'VH_inertia'),\n",
              "  Text(0, 0, 'VH_maxcorr'),\n",
              "  Text(0, 0, 'VH_prom'),\n",
              "  Text(0, 0, 'VH_savg'),\n",
              "  Text(0, 0, 'VH_sent'),\n",
              "  Text(0, 0, 'VH_shade'),\n",
              "  Text(0, 0, 'VH_smoothed'),\n",
              "  Text(0, 0, 'VH_svar'),\n",
              "  Text(0, 0, 'VH_var'),\n",
              "  Text(0, 0, 'VV_asm'),\n",
              "  Text(0, 0, 'VV_contrast'),\n",
              "  Text(0, 0, 'VV_corr'),\n",
              "  Text(0, 0, 'VV_dent'),\n",
              "  Text(0, 0, 'VV_diss'),\n",
              "  Text(0, 0, 'VV_dvar'),\n",
              "  Text(0, 0, 'VV_ent'),\n",
              "  Text(0, 0, 'VV_idm'),\n",
              "  Text(0, 0, 'VV_imcorr1'),\n",
              "  Text(0, 0, 'VV_imcorr2'),\n",
              "  Text(0, 0, 'VV_inertia'),\n",
              "  Text(0, 0, 'VV_maxcorr'),\n",
              "  Text(0, 0, 'VV_prom'),\n",
              "  Text(0, 0, 'VV_savg'),\n",
              "  Text(0, 0, 'VV_sent'),\n",
              "  Text(0, 0, 'VV_shade'),\n",
              "  Text(0, 0, 'VV_smoothed'),\n",
              "  Text(0, 0, 'VV_svar'),\n",
              "  Text(0, 0, 'VV_var')])"
            ]
          },
          "metadata": {
            "tags": []
          },
          "execution_count": 26
        },
        {
          "output_type": "display_data",
          "data": {
            "image/png": "[encoded data removed]",
            "text/plain": [
              "<Figure size 720x720 with 1 Axes>"
            ]
          },
          "metadata": {
            "tags": []
          }
        }
      ]
    }
  ]
}