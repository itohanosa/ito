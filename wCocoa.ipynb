{
  "nbformat": 4,
  "nbformat_minor": 0,
  "metadata": {
    "colab": {
      "name": "wCocoa.ipynb",
      "provenance": [],
      "authorship_tag": "ABX9TyMoKuZg/hHwby6EOX7F6AXj",
      "include_colab_link": true
    },
    "kernelspec": {
      "name": "python3",
      "display_name": "Python 3"
    }
  },
  "cells": [
    {
      "cell_type": "markdown",
      "metadata": {
        "id": "view-in-github",
        "colab_type": "text"
      },
      "source": [
        "<a href=\"https://colab.research.google.com/github/itohanosa/ito/blob/master/wCocoa.ipynb\" target=\"_parent\"><img src=\"https://colab.research.google.com/assets/colab-badge.svg\" alt=\"Open In Colab\"/></a>"
      ]
    },
    {
      "cell_type": "code",
      "metadata": {
        "id": "vvSDHOnUFnSU"
      },
      "source": [
        "from google.colab import auth\r\n",
        "auth.authenticate_user()"
      ],
      "execution_count": 1,
      "outputs": []
    },
    {
      "cell_type": "code",
      "metadata": {
        "colab": {
          "base_uri": "https://localhost:8080/"
        },
        "id": "PI8eszzGGBUw",
        "outputId": "fd9168b6-f909-44d2-d8f9-81ebc75f33e8"
      },
      "source": [
        "import ee\r\n",
        "ee.Authenticate()\r\n",
        "ee.Initialize()"
      ],
      "execution_count": 2,
      "outputs": [
        {
          "output_type": "stream",
          "text": [
            "To authorize access needed by Earth Engine, open the following URL in a web browser and follow the instructions. If the web browser does not start automatically, please manually browse the URL below.\n",
            "\n",
            "    https://accounts.google.com/o/oauth2/auth?client_id=517222506229-vsmmajv00ul0bs7p89v5m89qs8eb9359.apps.googleusercontent.com&scope=https%3A%2F%2Fwww.googleapis.com%2Fauth%2Fearthengine+https%3A%2F%2Fwww.googleapis.com%2Fauth%2Fdevstorage.full_control&redirect_uri=urn%3Aietf%3Awg%3Aoauth%3A2.0%3Aoob&response_type=code&code_challenge=A7-T99z218bTlQGD8s06xU3RiFzvaz48sGIhegQ9lS0&code_challenge_method=S256\n",
            "\n",
            "The authorization workflow will generate a code, which you should paste in the box below. \n",
            "Enter verification code: 4/1AY0e-g7Fu_g4KGkYcaulG5q3t8weiqR8uw0X-YIp3vHImcZBQZCTiDHpc8c\n",
            "\n",
            "Successfully saved authorization token.\n"
          ],
          "name": "stdout"
        }
      ]
    },
    {
      "cell_type": "code",
      "metadata": {
        "colab": {
          "base_uri": "https://localhost:8080/"
        },
        "id": "YoFdNN1mGFmE",
        "outputId": "1dd79cbe-17c6-4fb2-8176-aa69d443a1b7"
      },
      "source": [
        "import tensorflow as tf\r\n",
        "print(tf.__version__)"
      ],
      "execution_count": 3,
      "outputs": [
        {
          "output_type": "stream",
          "text": [
            "2.4.1\n"
          ],
          "name": "stdout"
        }
      ]
    },
    {
      "cell_type": "code",
      "metadata": {
        "colab": {
          "base_uri": "https://localhost:8080/"
        },
        "id": "JSYkEI_fHAFW",
        "outputId": "00c31c72-9e0a-4c45-d707-c4527f20f6af"
      },
      "source": [
        "import folium\r\n",
        "print(folium.__version__)"
      ],
      "execution_count": 4,
      "outputs": [
        {
          "output_type": "stream",
          "text": [
            "0.8.3\n"
          ],
          "name": "stdout"
        }
      ]
    },
    {
      "cell_type": "markdown",
      "metadata": {
        "id": "vWT1uRk2G2bh"
      },
      "source": [
        "Define variables\r\n",
        "This set of global variables will be used throughout. For this demo, you must have a Cloud Storage bucket into which you can write files. (learn more about creating Cloud Storage buckets). You'll also need to specify your Earth Engine username, i.e. users/USER_NAME on the Code Editor Assets tab."
      ]
    },
    {
      "cell_type": "code",
      "metadata": {
        "id": "YjtHGSlxG6Pf"
      },
      "source": [
        "# Your Earth Engine username.  This is used to import a classified image\r\n",
        "# into your Earth Engine assets folder.\r\n",
        "USER_NAME = 'abuitohanosa'\r\n",
        "\r\n",
        "# Cloud Storage bucket into which training, testing and prediction \r\n",
        "# datasets will be written.  You must be able to write into this bucket.\r\n",
        "OUTPUT_BUCKET = 'users/abuitohanosa/'\r\n",
        "\r\n",
        "# Use Landsat 8 surface reflectance data for predictors.\r\n",
        "L8SR = ee.ImageCollection('LANDSAT/LC08/C01/T1_SR')\r\n",
        "# Use these bands for prediction.\r\n",
        "BANDS = ['B2', 'B3', 'B4', 'B5', 'B6', 'B7']\r\n",
        "\r\n",
        "# This is a trianing/testing dataset of points with known land cover labels.\r\n",
        "LABEL_DATA = ee.FeatureCollection('projects/google/demo_landcover_labels')\r\n",
        "# The labels, consecutive integer indices starting from zero, are stored in\r\n",
        "# this property, set on each point.\r\n",
        "LABEL = 'landcover'\r\n",
        "# Number of label values, i.e. number of classes in the classification.\r\n",
        "N_CLASSES = 3\r\n",
        "\r\n",
        "# These names are used to specify properties in the export of\r\n",
        "# training/testing data and to define the mapping between names and data\r\n",
        "# when reading into TensorFlow datasets.\r\n",
        "FEATURE_NAMES = list(BANDS)\r\n",
        "FEATURE_NAMES.append(LABEL)\r\n",
        "\r\n",
        "# File names for the training and testing datasets.  These TFRecord files\r\n",
        "# will be exported from Earth Engine into the Cloud Storage bucket.\r\n",
        "TRAIN_FILE_PREFIX = 'Training_demo'\r\n",
        "TEST_FILE_PREFIX = 'Testing_demo'\r\n",
        "file_extension = '.tfrecord.gz'\r\n",
        "TRAIN_FILE_PATH = 'gs://' + OUTPUT_BUCKET + '/' + TRAIN_FILE_PREFIX + file_extension\r\n",
        "TEST_FILE_PATH = 'gs://' + OUTPUT_BUCKET + '/' + TEST_FILE_PREFIX + file_extension\r\n",
        "\r\n",
        "# File name for the prediction (image) dataset.  The trained model will read\r\n",
        "# this dataset and make predictions in each pixel.\r\n",
        "IMAGE_FILE_PREFIX = 'Image_pixel_demo_'\r\n",
        "\r\n",
        "# The output path for the classified image (i.e. predictions) TFRecord file.\r\n",
        "OUTPUT_IMAGE_FILE = 'gs://' + OUTPUT_BUCKET + '/Classified_pixel_demo.TFRecord'\r\n",
        "# Export imagery in this region.\r\n",
        "EXPORT_REGION = ee.Geometry.Rectangle([-122.7, 37.3, -121.8, 38.00])\r\n",
        "# The name of the Earth Engine asset to be created by importing\r\n",
        "# the classified image from the TFRecord file in Cloud Storage.\r\n",
        "OUTPUT_ASSET_ID = 'users/' + USER_NAME + '/Classified_pixel_demo'"
      ],
      "execution_count": 6,
      "outputs": []
    },
    {
      "cell_type": "markdown",
      "metadata": {
        "id": "S7KdIPWHQjcN"
      },
      "source": [
        "Prepare Landsat 8 imagery\r\n",
        "First, make a cloud-masked median composite of Landsat 8 surface reflectance imagery from 2018. Check the composite by visualizing with folium."
      ]
    },
    {
      "cell_type": "code",
      "metadata": {
        "colab": {
          "base_uri": "https://localhost:8080/",
          "height": 678
        },
        "id": "nZ7MQrsOQmq8",
        "outputId": "dec19640-237d-4252-b0d0-7429c277db03"
      },
      "source": [
        "# Cloud masking function.\r\n",
        "def maskL8sr(image):\r\n",
        "  cloudShadowBitMask = ee.Number(2).pow(3).int()\r\n",
        "  cloudsBitMask = ee.Number(2).pow(5).int()\r\n",
        "  qa = image.select('pixel_qa')\r\n",
        "  mask = qa.bitwiseAnd(cloudShadowBitMask).eq(0).And(\r\n",
        "    qa.bitwiseAnd(cloudsBitMask).eq(0))\r\n",
        "  return image.updateMask(mask).select(BANDS).divide(10000)\r\n",
        "\r\n",
        "# The image input data is a 2018 cloud-masked median composite.\r\n",
        "image = L8SR.filterDate('2020-01-01', '2020-12-31').map(maskL8sr).median()\r\n",
        "\r\n",
        "#crop\r\n",
        "roi = ee.FeatureCollection('users/abuitohanosa/gadm36_CIV_0')\r\n",
        "image = image.clip(roi)\r\n",
        "\r\n",
        "# Use folium to visualize the imagery.\r\n",
        "mapid = image.getMapId({'bands': ['B4', 'B3', 'B2'], 'min': 0, 'max': 0.3})\r\n",
        "map = folium.Map(location=[-5.4, 5.4])\r\n",
        "\r\n",
        "folium.TileLayer(\r\n",
        "    tiles=mapid['tile_fetcher'].url_format,\r\n",
        "    attr='Map Data &copy; <a href=\"https://earthengine.google.com/\">Google Earth Engine</a>',\r\n",
        "    overlay=True,\r\n",
        "    name='median composite',\r\n",
        "  ).add_to(map)\r\n",
        "map.add_child(folium.LayerControl())\r\n",
        "map"
      ],
      "execution_count": 30,
      "outputs": [
        {
          "output_type": "execute_result",
          "data": {
            "text/html": [
              "<div style=\"width:100%;\"><div style=\"position:relative;width:100%;height:0;padding-bottom:60%;\"><span style=\"color:#565656\">Make this Notebook Trusted to load map: File -> Trust Notebook</span><iframe src=\"about:blank\" style=\"position:absolute;width:100%;height:100%;left:0;top:0;border:none !important;\" data-html=%3C%21DOCTYPE%20html%3E%0A%3Chead%3E%20%20%20%20%0A%20%20%20%20%3Cmeta%20http-equiv%3D%22content-type%22%20content%3D%22text/html%3B%20charset%3DUTF-8%22%20/%3E%0A%20%20%20%20%3Cscript%3EL_PREFER_CANVAS%3Dfalse%3B%20L_NO_TOUCH%3Dfalse%3B%20L_DISABLE_3D%3Dfalse%3B%3C/script%3E%0A%20%20%20%20%3Cscript%20src%3D%22https%3A//cdn.jsdelivr.net/npm/leaflet%401.4.0/dist/leaflet.js%22%3E%3C/script%3E%0A%20%20%20%20%3Cscript%20src%3D%22https%3A//code.jquery.com/jquery-1.12.4.min.js%22%3E%3C/script%3E%0A%20%20%20%20%3Cscript%20src%3D%22https%3A//maxcdn.bootstrapcdn.com/bootstrap/3.2.0/js/bootstrap.min.js%22%3E%3C/script%3E%0A%20%20%20%20%3Cscript%20src%3D%22https%3A//cdnjs.cloudflare.com/ajax/libs/Leaflet.awesome-markers/2.0.2/leaflet.awesome-markers.js%22%3E%3C/script%3E%0A%20%20%20%20%3Clink%20rel%3D%22stylesheet%22%20href%3D%22https%3A//cdn.jsdelivr.net/npm/leaflet%401.4.0/dist/leaflet.css%22/%3E%0A%20%20%20%20%3Clink%20rel%3D%22stylesheet%22%20href%3D%22https%3A//maxcdn.bootstrapcdn.com/bootstrap/3.2.0/css/bootstrap.min.css%22/%3E%0A%20%20%20%20%3Clink%20rel%3D%22stylesheet%22%20href%3D%22https%3A//maxcdn.bootstrapcdn.com/bootstrap/3.2.0/css/bootstrap-theme.min.css%22/%3E%0A%20%20%20%20%3Clink%20rel%3D%22stylesheet%22%20href%3D%22https%3A//maxcdn.bootstrapcdn.com/font-awesome/4.6.3/css/font-awesome.min.css%22/%3E%0A%20%20%20%20%3Clink%20rel%3D%22stylesheet%22%20href%3D%22https%3A//cdnjs.cloudflare.com/ajax/libs/Leaflet.awesome-markers/2.0.2/leaflet.awesome-markers.css%22/%3E%0A%20%20%20%20%3Clink%20rel%3D%22stylesheet%22%20href%3D%22https%3A//rawcdn.githack.com/python-visualization/folium/master/folium/templates/leaflet.awesome.rotate.css%22/%3E%0A%20%20%20%20%3Cstyle%3Ehtml%2C%20body%20%7Bwidth%3A%20100%25%3Bheight%3A%20100%25%3Bmargin%3A%200%3Bpadding%3A%200%3B%7D%3C/style%3E%0A%20%20%20%20%3Cstyle%3E%23map%20%7Bposition%3Aabsolute%3Btop%3A0%3Bbottom%3A0%3Bright%3A0%3Bleft%3A0%3B%7D%3C/style%3E%0A%20%20%20%20%0A%20%20%20%20%3Cmeta%20name%3D%22viewport%22%20content%3D%22width%3Ddevice-width%2C%0A%20%20%20%20%20%20%20%20initial-scale%3D1.0%2C%20maximum-scale%3D1.0%2C%20user-scalable%3Dno%22%20/%3E%0A%20%20%20%20%3Cstyle%3E%23map_74bba4289ff94c7699da5424a70790e8%20%7B%0A%20%20%20%20%20%20%20%20position%3A%20relative%3B%0A%20%20%20%20%20%20%20%20width%3A%20100.0%25%3B%0A%20%20%20%20%20%20%20%20height%3A%20100.0%25%3B%0A%20%20%20%20%20%20%20%20left%3A%200.0%25%3B%0A%20%20%20%20%20%20%20%20top%3A%200.0%25%3B%0A%20%20%20%20%20%20%20%20%7D%0A%20%20%20%20%3C/style%3E%0A%3C/head%3E%0A%3Cbody%3E%20%20%20%20%0A%20%20%20%20%0A%20%20%20%20%3Cdiv%20class%3D%22folium-map%22%20id%3D%22map_74bba4289ff94c7699da5424a70790e8%22%20%3E%3C/div%3E%0A%3C/body%3E%0A%3Cscript%3E%20%20%20%20%0A%20%20%20%20%0A%20%20%20%20%0A%20%20%20%20%20%20%20%20var%20bounds%20%3D%20null%3B%0A%20%20%20%20%0A%0A%20%20%20%20var%20map_74bba4289ff94c7699da5424a70790e8%20%3D%20L.map%28%0A%20%20%20%20%20%20%20%20%27map_74bba4289ff94c7699da5424a70790e8%27%2C%20%7B%0A%20%20%20%20%20%20%20%20center%3A%20%5B-5.4%2C%205.4%5D%2C%0A%20%20%20%20%20%20%20%20zoom%3A%2010%2C%0A%20%20%20%20%20%20%20%20maxBounds%3A%20bounds%2C%0A%20%20%20%20%20%20%20%20layers%3A%20%5B%5D%2C%0A%20%20%20%20%20%20%20%20worldCopyJump%3A%20false%2C%0A%20%20%20%20%20%20%20%20crs%3A%20L.CRS.EPSG3857%2C%0A%20%20%20%20%20%20%20%20zoomControl%3A%20true%2C%0A%20%20%20%20%20%20%20%20%7D%29%3B%0A%0A%0A%20%20%20%20%0A%20%20%20%20var%20tile_layer_084de7afab7a4a4aad5e84bfdc75ac43%20%3D%20L.tileLayer%28%0A%20%20%20%20%20%20%20%20%27https%3A//%7Bs%7D.tile.openstreetmap.org/%7Bz%7D/%7Bx%7D/%7By%7D.png%27%2C%0A%20%20%20%20%20%20%20%20%7B%0A%20%20%20%20%20%20%20%20%22attribution%22%3A%20null%2C%0A%20%20%20%20%20%20%20%20%22detectRetina%22%3A%20false%2C%0A%20%20%20%20%20%20%20%20%22maxNativeZoom%22%3A%2018%2C%0A%20%20%20%20%20%20%20%20%22maxZoom%22%3A%2018%2C%0A%20%20%20%20%20%20%20%20%22minZoom%22%3A%200%2C%0A%20%20%20%20%20%20%20%20%22noWrap%22%3A%20false%2C%0A%20%20%20%20%20%20%20%20%22opacity%22%3A%201%2C%0A%20%20%20%20%20%20%20%20%22subdomains%22%3A%20%22abc%22%2C%0A%20%20%20%20%20%20%20%20%22tms%22%3A%20false%0A%7D%29.addTo%28map_74bba4289ff94c7699da5424a70790e8%29%3B%0A%20%20%20%20var%20tile_layer_e58ec34e1b1046a4b3b5bb53de607f16%20%3D%20L.tileLayer%28%0A%20%20%20%20%20%20%20%20%27https%3A//earthengine.googleapis.com/v1alpha/projects/earthengine-legacy/maps/b5bf2024d3a53daf0306013936297459-b9170fb8bd8bc7468ca8a8ee5f0ce40c/tiles/%7Bz%7D/%7Bx%7D/%7By%7D%27%2C%0A%20%20%20%20%20%20%20%20%7B%0A%20%20%20%20%20%20%20%20%22attribution%22%3A%20%22Map%20Data%20%26copy%3B%20%3Ca%20href%3D%5C%22https%3A//earthengine.google.com/%5C%22%3EGoogle%20Earth%20Engine%3C/a%3E%22%2C%0A%20%20%20%20%20%20%20%20%22detectRetina%22%3A%20false%2C%0A%20%20%20%20%20%20%20%20%22maxNativeZoom%22%3A%2018%2C%0A%20%20%20%20%20%20%20%20%22maxZoom%22%3A%2018%2C%0A%20%20%20%20%20%20%20%20%22minZoom%22%3A%200%2C%0A%20%20%20%20%20%20%20%20%22noWrap%22%3A%20false%2C%0A%20%20%20%20%20%20%20%20%22opacity%22%3A%201%2C%0A%20%20%20%20%20%20%20%20%22subdomains%22%3A%20%22abc%22%2C%0A%20%20%20%20%20%20%20%20%22tms%22%3A%20false%0A%7D%29.addTo%28map_74bba4289ff94c7699da5424a70790e8%29%3B%0A%20%20%20%20%0A%20%20%20%20%20%20%20%20%20%20%20%20var%20layer_control_f8552755652040ea97f3fea0ef5a5b1a%20%3D%20%7B%0A%20%20%20%20%20%20%20%20%20%20%20%20%20%20%20%20base_layers%20%3A%20%7B%20%22openstreetmap%22%20%3A%20tile_layer_084de7afab7a4a4aad5e84bfdc75ac43%2C%20%7D%2C%0A%20%20%20%20%20%20%20%20%20%20%20%20%20%20%20%20overlays%20%3A%20%7B%20%22median%20composite%22%20%3A%20tile_layer_e58ec34e1b1046a4b3b5bb53de607f16%2C%20%7D%0A%20%20%20%20%20%20%20%20%20%20%20%20%20%20%20%20%7D%3B%0A%20%20%20%20%20%20%20%20%20%20%20%20L.control.layers%28%0A%20%20%20%20%20%20%20%20%20%20%20%20%20%20%20%20layer_control_f8552755652040ea97f3fea0ef5a5b1a.base_layers%2C%0A%20%20%20%20%20%20%20%20%20%20%20%20%20%20%20%20layer_control_f8552755652040ea97f3fea0ef5a5b1a.overlays%2C%0A%20%20%20%20%20%20%20%20%20%20%20%20%20%20%20%20%7Bposition%3A%20%27topright%27%2C%0A%20%20%20%20%20%20%20%20%20%20%20%20%20%20%20%20%20collapsed%3A%20true%2C%0A%20%20%20%20%20%20%20%20%20%20%20%20%20%20%20%20%20autoZIndex%3A%20true%0A%20%20%20%20%20%20%20%20%20%20%20%20%20%20%20%20%7D%29.addTo%28map_74bba4289ff94c7699da5424a70790e8%29%3B%0A%20%20%20%20%20%20%20%20%20%20%20%20%0A%20%20%20%20%20%20%20%20%0A%3C/script%3E onload=\"this.contentDocument.open();this.contentDocument.write(    decodeURIComponent(this.getAttribute('data-html')));this.contentDocument.close();\" allowfullscreen webkitallowfullscreen mozallowfullscreen></iframe></div></div>"
            ],
            "text/plain": [
              "<folium.folium.Map at 0x7f6af910df60>"
            ]
          },
          "metadata": {
            "tags": []
          },
          "execution_count": 30
        }
      ]
    },
    {
      "cell_type": "code",
      "metadata": {
        "id": "rsgzYPrxfWCW"
      },
      "source": [
        "#td\r\n",
        "LABEL_DATA = ee.FeatureCollection('users/abuitohanosa/TD/13467_a')"
      ],
      "execution_count": 33,
      "outputs": []
    },
    {
      "cell_type": "code",
      "metadata": {
        "colab": {
          "base_uri": "https://localhost:8080/"
        },
        "id": "VVAnEB6UQ8tu",
        "outputId": "09798c01-a0bb-48ba-bd8e-d2ec305ca426"
      },
      "source": [
        "# Sample the image at the points and add a random column.\r\n",
        "sample = image.sampleRegions(\r\n",
        "  collection=LABEL_DATA, properties=[LABEL], scale=30).randomColumn()\r\n",
        "\r\n",
        "# Partition the sample approximately 90-10.\r\n",
        "training = sample.filter(ee.Filter.lt('random', 0.9))\r\n",
        "testing = sample.filter(ee.Filter.gte('random', 0.9))\r\n",
        "\r\n",
        "from pprint import pprint\r\n",
        "\r\n",
        "# Print the first couple points to verify.\r\n",
        "pprint({'training': training.first().getInfo()})\r\n",
        "pprint({'testing': testing.first().getInfo()})"
      ],
      "execution_count": 37,
      "outputs": [
        {
          "output_type": "stream",
          "text": [
            "{'training': {'geometry': None,\n",
            "              'id': '00000000000000000001_0',\n",
            "              'properties': {'B2': 0.031300000846385956,\n",
            "                             'B3': 0.0685499981045723,\n",
            "                             'B4': 0.054749999195337296,\n",
            "                             'B5': 0.2919999957084656,\n",
            "                             'B6': 0.17730000615119934,\n",
            "                             'B7': 0.08824999630451202,\n",
            "                             'random': 0.3192107094070944},\n",
            "              'type': 'Feature'}}\n",
            "{'testing': {'geometry': None,\n",
            "             'id': '0000000000000000001f_0',\n",
            "             'properties': {'B2': 0.03669999912381172,\n",
            "                            'B3': 0.07429999858140945,\n",
            "                            'B4': 0.04690000042319298,\n",
            "                            'B5': 0.4004000127315521,\n",
            "                            'B6': 0.2054000049829483,\n",
            "                            'B7': 0.09314999729394913,\n",
            "                            'random': 0.9966376096495262},\n",
            "             'type': 'Feature'}}\n"
          ],
          "name": "stdout"
        }
      ]
    },
    {
      "cell_type": "code",
      "metadata": {
        "id": "Pb-aPvQc0Xvp"
      },
      "source": [
        "# Make sure you can see the output bucket.  You must have write access.\n",
        "#print('Found Cloud Storage bucket.' if tf.io.gfile.exists('gs://' + OUTPUT_BUCKET) \n",
        " #   else 'Can not find output Cloud Storage bucket.')"
      ],
      "execution_count": 11,
      "outputs": []
    },
    {
      "cell_type": "code",
      "metadata": {
        "id": "TfVNQzg8R6Wy"
      },
      "source": [
        "# Create the tasks.\n",
        "# Export an ee.FeatureCollection as an Earth Engine asset.\n",
        "training_task = ee.batch.Export.table.toAsset(**{\n",
        "    'collection': training,\n",
        "    'description':'Training Export',\n",
        "    'assetId': 'users/abuitohanosa/TD'\n",
        "})\n",
        "training_task.start()\n",
        "\n",
        "testing_task = ee.batch.Export.table.toAsset(**{\n",
        "    'collection': testing,\n",
        "    'description':'Testing Export',\n",
        "    'assetId': 'users/abuitohanosa/TD'\n",
        "})\n",
        "testing_task.start()\n"
      ],
      "execution_count": 60,
      "outputs": []
    },
    {
      "cell_type": "code",
      "metadata": {
        "id": "PSktks49T_MA"
      },
      "source": [
        "# Print all tasks.\r\n",
        "pprint(ee.batch.Task.list())"
      ],
      "execution_count": null,
      "outputs": []
    },
    {
      "cell_type": "markdown",
      "metadata": {
        "id": "OJxTAAcM0UCS"
      },
      "source": [
        "Read into a tf.data.Dataset\r\n",
        "Here we are going to read a file in Cloud Storage into a tf.data.Dataset. (these TensorFlow docs explain more about reading data into a Dataset). Check that you can read examples from the file. The purpose here is to ensure that we can read from the file without an error. The actual content is not necessarily human readable."
      ]
    },
    {
      "cell_type": "code",
      "metadata": {
        "id": "kvy4J40I0aQM"
      },
      "source": [
        ""
      ],
      "execution_count": null,
      "outputs": []
    }
  ]
}